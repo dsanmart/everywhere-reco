{
 "cells": [
  {
   "cell_type": "markdown",
   "id": "56b9508c",
   "metadata": {},
   "source": [
    "# Experiment using model 1\n",
    "Description"
   ]
  },
  {
   "cell_type": "code",
   "execution_count": 7,
   "id": "44b1db21",
   "metadata": {},
   "outputs": [
    {
     "name": "stdout",
     "output_type": "stream",
     "text": [
      "Numpy version: 1.21.5\n",
      "Pandas version: 1.3.5\n",
      "Miguellib version: 0.1.0\n"
     ]
    }
   ],
   "source": [
    "import numpy as np\n",
    "import pandas as pd\n",
    "import miguellib\n",
    "from miguellib.datasets.dummy import dummy_dataset\n",
    "\n",
    "print(f\"Numpy version: {np.__version__}\")\n",
    "print(f\"Pandas version: {pd.__version__}\")\n",
    "print(f\"Miguellib version: {miguellib.__version__}\")\n",
    "      "
   ]
  },
  {
   "cell_type": "markdown",
   "id": "bd715d4a",
   "metadata": {},
   "source": [
    "## Model theoretical explanation\n",
    "\n",
    "This model is based in ..."
   ]
  },
  {
   "cell_type": "code",
   "execution_count": null,
   "id": "920d8ef5",
   "metadata": {},
   "outputs": [],
   "source": [
    "# Parameters\n",
    "batch_size = 32\n",
    "n_layers = 5\n",
    "#epochs = 10\n",
    "EPOCHS = 10"
   ]
  },
  {
   "cell_type": "markdown",
   "id": "7f047d6c",
   "metadata": {},
   "source": [
    "## Data prep\n"
   ]
  },
  {
   "cell_type": "code",
   "execution_count": 8,
   "id": "2231c92a",
   "metadata": {},
   "outputs": [
    {
     "name": "stdout",
     "output_type": "stream",
     "text": [
      "[1, 2, 3, 4]\n"
     ]
    }
   ],
   "source": [
    "dataset = dummy_dataset()\n",
    "print(dataset)"
   ]
  },
  {
   "cell_type": "code",
   "execution_count": null,
   "id": "5fa36aa6",
   "metadata": {},
   "outputs": [],
   "source": []
  },
  {
   "cell_type": "markdown",
   "id": "c61a0ab5",
   "metadata": {},
   "source": [
    "## Model training"
   ]
  },
  {
   "cell_type": "code",
   "execution_count": null,
   "id": "19a0b498",
   "metadata": {},
   "outputs": [],
   "source": [
    "# model.fit"
   ]
  },
  {
   "cell_type": "code",
   "execution_count": null,
   "id": "2b044274",
   "metadata": {},
   "outputs": [],
   "source": [
    "# preds = model.test"
   ]
  },
  {
   "cell_type": "markdown",
   "id": "e8511d1b",
   "metadata": {},
   "source": [
    "## Evaluation"
   ]
  },
  {
   "cell_type": "code",
   "execution_count": null,
   "id": "4208dda2",
   "metadata": {},
   "outputs": [],
   "source": [
    "# model_auc = auc(true, preds)"
   ]
  },
  {
   "cell_type": "markdown",
   "id": "0ed2afd4",
   "metadata": {},
   "source": [
    "## Summary"
   ]
  }
 ],
 "metadata": {
  "kernelspec": {
   "display_name": "Python 3 (ipykernel)",
   "language": "python",
   "name": "python3"
  },
  "language_info": {
   "codemirror_mode": {
    "name": "ipython",
    "version": 3
   },
   "file_extension": ".py",
   "mimetype": "text/x-python",
   "name": "python",
   "nbconvert_exporter": "python",
   "pygments_lexer": "ipython3",
   "version": "3.7.11"
  }
 },
 "nbformat": 4,
 "nbformat_minor": 5
}
