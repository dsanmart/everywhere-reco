{
 "cells": [
  {
   "cell_type": "markdown",
   "id": "56b9508c",
   "metadata": {},
   "source": [
    "# Experiment using model 1\n",
    "Description"
   ]
  },
  {
   "cell_type": "code",
   "execution_count": 4,
   "id": "44b1db21",
   "metadata": {},
   "outputs": [
    {
     "name": "stdout",
     "output_type": "stream",
     "text": [
      "Numpy version: 1.24.2\n",
      "Pandas version: 1.5.3\n",
      "Everywhere version: 0.0.0\n"
     ]
    }
   ],
   "source": [
    "import numpy as np\n",
    "import pandas as pd\n",
    "import everywhere\n",
    "from everywhere.datasets.load_data import get_users_data, get_events_data, get_train_data, get_user_friends_data, get_event_attendees_data, get_event_popularities_data\n",
    "print(f\"Numpy version: {np.__version__}\")\n",
    "print(f\"Pandas version: {pd.__version__}\")\n",
    "print(f\"Everywhere version: {everywhere.__version__}\")"
   ]
  },
  {
   "cell_type": "markdown",
   "id": "bd715d4a",
   "metadata": {},
   "source": [
    "## Model theoretical explanation\n",
    "\n",
    "This model is based in ..."
   ]
  },
  {
   "cell_type": "code",
   "execution_count": null,
   "id": "920d8ef5",
   "metadata": {},
   "outputs": [],
   "source": [
    "# Parameters\n",
    "batch_size = 32\n",
    "n_layers = 5\n",
    "#epochs = 10\n",
    "EPOCHS = 10"
   ]
  },
  {
   "cell_type": "markdown",
   "id": "7f047d6c",
   "metadata": {},
   "source": [
    "## Data prep\n"
   ]
  },
  {
   "cell_type": "code",
   "execution_count": 5,
   "id": "2231c92a",
   "metadata": {},
   "outputs": [
    {
     "data": {
      "text/html": [
       "<div>\n",
       "<style scoped>\n",
       "    .dataframe tbody tr th:only-of-type {\n",
       "        vertical-align: middle;\n",
       "    }\n",
       "\n",
       "    .dataframe tbody tr th {\n",
       "        vertical-align: top;\n",
       "    }\n",
       "\n",
       "    .dataframe thead th {\n",
       "        text-align: right;\n",
       "    }\n",
       "</style>\n",
       "<table border=\"1\" class=\"dataframe\">\n",
       "  <thead>\n",
       "    <tr style=\"text-align: right;\">\n",
       "      <th></th>\n",
       "      <th>user_id</th>\n",
       "      <th>locale</th>\n",
       "      <th>birthyear</th>\n",
       "      <th>gender</th>\n",
       "      <th>joinedAt</th>\n",
       "      <th>location</th>\n",
       "      <th>timezone</th>\n",
       "    </tr>\n",
       "  </thead>\n",
       "  <tbody>\n",
       "    <tr>\n",
       "      <th>0</th>\n",
       "      <td>3197468391</td>\n",
       "      <td>id_ID</td>\n",
       "      <td>1993</td>\n",
       "      <td>male</td>\n",
       "      <td>2012-10-02T06:40:55.524Z</td>\n",
       "      <td>Medan  Indonesia</td>\n",
       "      <td>480.0</td>\n",
       "    </tr>\n",
       "    <tr>\n",
       "      <th>1</th>\n",
       "      <td>3537982273</td>\n",
       "      <td>id_ID</td>\n",
       "      <td>1992</td>\n",
       "      <td>male</td>\n",
       "      <td>2012-09-29T18:03:12.111Z</td>\n",
       "      <td>Medan  Indonesia</td>\n",
       "      <td>420.0</td>\n",
       "    </tr>\n",
       "    <tr>\n",
       "      <th>2</th>\n",
       "      <td>823183725</td>\n",
       "      <td>en_US</td>\n",
       "      <td>1975</td>\n",
       "      <td>male</td>\n",
       "      <td>2012-10-06T03:14:07.149Z</td>\n",
       "      <td>Stratford  Ontario</td>\n",
       "      <td>-240.0</td>\n",
       "    </tr>\n",
       "    <tr>\n",
       "      <th>3</th>\n",
       "      <td>1872223848</td>\n",
       "      <td>en_US</td>\n",
       "      <td>1991</td>\n",
       "      <td>female</td>\n",
       "      <td>2012-11-04T08:59:43.783Z</td>\n",
       "      <td>Tehran  Iran</td>\n",
       "      <td>210.0</td>\n",
       "    </tr>\n",
       "    <tr>\n",
       "      <th>4</th>\n",
       "      <td>3429017717</td>\n",
       "      <td>id_ID</td>\n",
       "      <td>1995</td>\n",
       "      <td>female</td>\n",
       "      <td>2012-09-10T16:06:53.132Z</td>\n",
       "      <td>NaN</td>\n",
       "      <td>420.0</td>\n",
       "    </tr>\n",
       "    <tr>\n",
       "      <th>...</th>\n",
       "      <td>...</td>\n",
       "      <td>...</td>\n",
       "      <td>...</td>\n",
       "      <td>...</td>\n",
       "      <td>...</td>\n",
       "      <td>...</td>\n",
       "      <td>...</td>\n",
       "    </tr>\n",
       "    <tr>\n",
       "      <th>38204</th>\n",
       "      <td>4064394129</td>\n",
       "      <td>en_US</td>\n",
       "      <td>1966</td>\n",
       "      <td>female</td>\n",
       "      <td>2012-06-12T02:03:42.571Z</td>\n",
       "      <td>NaN</td>\n",
       "      <td>-240.0</td>\n",
       "    </tr>\n",
       "    <tr>\n",
       "      <th>38205</th>\n",
       "      <td>446388078</td>\n",
       "      <td>id_ID</td>\n",
       "      <td>1997</td>\n",
       "      <td>male</td>\n",
       "      <td>2012-10-25T22:43:19.834Z</td>\n",
       "      <td>Medan  Indonesia</td>\n",
       "      <td>420.0</td>\n",
       "    </tr>\n",
       "    <tr>\n",
       "      <th>38206</th>\n",
       "      <td>2548659919</td>\n",
       "      <td>id_ID</td>\n",
       "      <td>1995</td>\n",
       "      <td>male</td>\n",
       "      <td>2012-10-28T07:23:08.383Z</td>\n",
       "      <td>Jogjakarta  Indonesia</td>\n",
       "      <td>420.0</td>\n",
       "    </tr>\n",
       "    <tr>\n",
       "      <th>38207</th>\n",
       "      <td>723239978</td>\n",
       "      <td>en_US</td>\n",
       "      <td>1989</td>\n",
       "      <td>male</td>\n",
       "      <td>2012-10-30T00:55:34.639Z</td>\n",
       "      <td>Yogyakarta</td>\n",
       "      <td>420.0</td>\n",
       "    </tr>\n",
       "    <tr>\n",
       "      <th>38208</th>\n",
       "      <td>125781176</td>\n",
       "      <td>en_US</td>\n",
       "      <td>1980</td>\n",
       "      <td>male</td>\n",
       "      <td>2012-11-20T18:05:07.101Z</td>\n",
       "      <td>San Dimas  California</td>\n",
       "      <td>-480.0</td>\n",
       "    </tr>\n",
       "  </tbody>\n",
       "</table>\n",
       "<p>38209 rows × 7 columns</p>\n",
       "</div>"
      ],
      "text/plain": [
       "          user_id locale birthyear  gender                  joinedAt  \\\n",
       "0      3197468391  id_ID      1993    male  2012-10-02T06:40:55.524Z   \n",
       "1      3537982273  id_ID      1992    male  2012-09-29T18:03:12.111Z   \n",
       "2       823183725  en_US      1975    male  2012-10-06T03:14:07.149Z   \n",
       "3      1872223848  en_US      1991  female  2012-11-04T08:59:43.783Z   \n",
       "4      3429017717  id_ID      1995  female  2012-09-10T16:06:53.132Z   \n",
       "...           ...    ...       ...     ...                       ...   \n",
       "38204  4064394129  en_US      1966  female  2012-06-12T02:03:42.571Z   \n",
       "38205   446388078  id_ID      1997    male  2012-10-25T22:43:19.834Z   \n",
       "38206  2548659919  id_ID      1995    male  2012-10-28T07:23:08.383Z   \n",
       "38207   723239978  en_US      1989    male  2012-10-30T00:55:34.639Z   \n",
       "38208   125781176  en_US      1980    male  2012-11-20T18:05:07.101Z   \n",
       "\n",
       "                    location  timezone  \n",
       "0           Medan  Indonesia     480.0  \n",
       "1           Medan  Indonesia     420.0  \n",
       "2         Stratford  Ontario    -240.0  \n",
       "3               Tehran  Iran     210.0  \n",
       "4                        NaN     420.0  \n",
       "...                      ...       ...  \n",
       "38204                    NaN    -240.0  \n",
       "38205       Medan  Indonesia     420.0  \n",
       "38206  Jogjakarta  Indonesia     420.0  \n",
       "38207             Yogyakarta     420.0  \n",
       "38208  San Dimas  California    -480.0  \n",
       "\n",
       "[38209 rows x 7 columns]"
      ]
     },
     "execution_count": 5,
     "metadata": {},
     "output_type": "execute_result"
    }
   ],
   "source": [
    "df = get_users_data()\n",
    "df"
   ]
  },
  {
   "cell_type": "code",
   "execution_count": null,
   "id": "5fa36aa6",
   "metadata": {},
   "outputs": [],
   "source": []
  },
  {
   "cell_type": "markdown",
   "id": "c61a0ab5",
   "metadata": {},
   "source": [
    "## Model training"
   ]
  },
  {
   "cell_type": "code",
   "execution_count": null,
   "id": "19a0b498",
   "metadata": {},
   "outputs": [],
   "source": [
    "# model.fit"
   ]
  },
  {
   "cell_type": "code",
   "execution_count": null,
   "id": "2b044274",
   "metadata": {},
   "outputs": [],
   "source": [
    "# preds = model.test"
   ]
  },
  {
   "cell_type": "markdown",
   "id": "e8511d1b",
   "metadata": {},
   "source": [
    "## Evaluation"
   ]
  },
  {
   "cell_type": "code",
   "execution_count": null,
   "id": "4208dda2",
   "metadata": {},
   "outputs": [],
   "source": [
    "# model_auc = auc(true, preds)"
   ]
  },
  {
   "cell_type": "markdown",
   "id": "0ed2afd4",
   "metadata": {},
   "source": [
    "## Summary"
   ]
  }
 ],
 "metadata": {
  "kernelspec": {
   "display_name": "venv",
   "language": "python",
   "name": "python3"
  },
  "language_info": {
   "codemirror_mode": {
    "name": "ipython",
    "version": 3
   },
   "file_extension": ".py",
   "mimetype": "text/x-python",
   "name": "python",
   "nbconvert_exporter": "python",
   "pygments_lexer": "ipython3",
   "version": "3.8.5"
  },
  "vscode": {
   "interpreter": {
    "hash": "48f317bb9b89e99b827d4e522edb7310299da1f4f0718b89d5bed6e18186b51c"
   }
  }
 },
 "nbformat": 4,
 "nbformat_minor": 5
}
