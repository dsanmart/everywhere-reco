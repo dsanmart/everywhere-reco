{
 "cells": [
  {
   "cell_type": "markdown",
   "id": "56b9508c",
   "metadata": {},
   "source": [
    "# Python project\n",
    "Description"
   ]
  },
  {
   "cell_type": "code",
   "execution_count": 2,
   "id": "44b1db21",
   "metadata": {},
   "outputs": [
    {
     "name": "stdout",
     "output_type": "stream",
     "text": [
      "Numpy version: 1.24.2\n",
      "Pandas version: 1.5.3\n",
      "Everywhere version: 0.0.0\n"
     ]
    }
   ],
   "source": [
    "import numpy as np\n",
    "import pandas as pd\n",
    "import everywhere\n",
    "\n",
    "print(f\"Numpy version: {np.__version__}\")\n",
    "print(f\"Pandas version: {pd.__version__}\")\n",
    "print(f\"Everywhere version: {everywhere.__version__}\")"
   ]
  }
 ],
 "metadata": {
  "kernelspec": {
   "display_name": "venv",
   "language": "python",
   "name": "python3"
  },
  "language_info": {
   "codemirror_mode": {
    "name": "ipython",
    "version": 3
   },
   "file_extension": ".py",
   "mimetype": "text/x-python",
   "name": "python",
   "nbconvert_exporter": "python",
   "pygments_lexer": "ipython3",
   "version": "3.8.5"
  },
  "vscode": {
   "interpreter": {
    "hash": "664b99df09010155fc8fa87d5066ae1c815e38659de5d9f2f6739c199552fc09"
   }
  }
 },
 "nbformat": 4,
 "nbformat_minor": 5
}
